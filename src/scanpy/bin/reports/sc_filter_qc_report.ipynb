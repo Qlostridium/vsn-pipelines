{
 "cells": [
  {
   "cell_type": "markdown",
   "metadata": {},
   "source": [
    "# Single-Cell Report: Filtering and QC"
   ]
  },
  {
   "cell_type": "code",
   "execution_count": null,
   "metadata": {},
   "outputs": [],
   "source": [
    "# Import packages\n",
    "import scanpy as sc\n",
    "import seaborn as sns\n",
    "import matplotlib.pyplot as plt\n",
    "import numpy as np\n",
    "import warnings\n",
    "import pandas as pd"
   ]
  },
  {
   "cell_type": "markdown",
   "metadata": {},
   "source": [
    "#### Plotting settings and functions"
   ]
  },
  {
   "cell_type": "code",
   "execution_count": null,
   "metadata": {},
   "outputs": [],
   "source": [
    "# plot settings\n",
    "sc.set_figure_params(dpi=150, fontsize=10, dpi_save=600)\n",
    "hist_dims = (10,4)"
   ]
  },
  {
   "cell_type": "code",
   "execution_count": null,
   "metadata": {},
   "outputs": [],
   "source": [
    "def plotSummaryHist(adata, figsize=(10,3), draw_thresholds=False):\n",
    "    fig, (ax1, ax2, ax3, ax4) = plt.subplots(1, 4, figsize=figsize, dpi=150, sharey=False)\n",
    "\n",
    "    sns.distplot( adata.obs['n_genes'], ax=ax1, norm_hist=True, bins=100)\n",
    "    ax1.title.set_text('Genes expressed per cell')\n",
    "    \n",
    "\n",
    "    sns.distplot( adata.obs['n_counts'], ax=ax2, norm_hist=True, bins=100)\n",
    "    ax2.title.set_text('Counts per cell')\n",
    "\n",
    "    if 'percent_mito' in adata.obs.keys():\n",
    "        sns.distplot( adata.obs['percent_mito'], ax=ax3, norm_hist=True, bins=100)\n",
    "        ax3.title.set_text('Mitochondrial read fraction per cell')\n",
    "        if(draw_thresholds):\n",
    "            ax3.axvline(x=adata.uns['sc']['scanpy']['filter']['cellFilterMaxPercentMito'], ymin=0,ymax=1, color='red')\n",
    "    else:\n",
    "        warnings.warn(\"Percentage of mitochondrial genes expressed in cells not calculated\")\n",
    "        \n",
    "    #sns.distplot( nCellsPerGene[nCellsPerGene<nCellsPerGene.quantile(q=0.8)] , ax=ax4, norm_hist=True, bins=50, kde=False)\n",
    "    sns.distplot( nCellsPerGene, ax=ax4, norm_hist=True, bins=500, kde=False)\n",
    "    ax4.title.set_text('Cells expressing each gene')\n",
    "\n",
    "    if(draw_thresholds):\n",
    "        ax1.axvline(x=adata.uns['sc']['scanpy']['filter']['cellFilterMinNGenes'], ymin=0,ymax=1, color='red')\n",
    "        ax1.axvline(x=adata.uns['sc']['scanpy']['filter']['cellFilterMaxNGenes'], ymin=0,ymax=1, color='red')\n",
    "        ax4.axvline(x=adata.uns['sc']['scanpy']['filter']['geneFilterMinNCells'], ymin=0,ymax=1, color='red')\n",
    "\n",
    "    \n",
    "    fig.text(0.00, 0.5, 'Frequency', ha='center', va='center', rotation='vertical', size='x-large')\n",
    "    fig.tight_layout()"
   ]
  },
  {
   "cell_type": "code",
   "execution_count": null,
   "metadata": {},
   "outputs": [],
   "source": [
    "def plotDiagnosticHist(x, xlim_q=None, xlim_val=None, nbins=100, hist_dims=hist_dims, xlab=\"\", filter_thr=None):\n",
    "    # the lower and upper bounds can be selected either by quantile (setting xlim_q=0.2, for instance),\n",
    "    # or by specifying the lower and upper bounds by x value (as in xlim_val=[50,500])\n",
    "    \n",
    "    if( xlim_q is not None ):\n",
    "        x_lowerbound = [ 0.0, x.quantile(q=xlim_q) ]\n",
    "        x_upperbound = [ x.quantile(q=(1.0-xlim_q)), x.max() ]\n",
    "    elif( xlim_val is not None ):\n",
    "        x_lowerbound = [ 0.0, xlim_val[0] ]\n",
    "        x_upperbound = [ xlim_val[1], x.max() ]\n",
    "\n",
    "    if(type(nbins)!=list):\n",
    "        nbins = [nbins] * 3\n",
    "        sharey = True\n",
    "    else:\n",
    "        sharey = False\n",
    "    \n",
    "    fig, (ax1, ax2, ax3) = plt.subplots(1, 3, figsize=hist_dims, dpi=150, sharey=sharey)\n",
    "    \n",
    "    sns.distplot(x, ax=ax1, norm_hist=True, bins=nbins[0])\n",
    "    sns.distplot(x, ax=ax2, norm_hist=True, bins=nbins[1])\n",
    "    sns.distplot(x, ax=ax3, norm_hist=True, bins=nbins[2])\n",
    "\n",
    "    ax2.set_xlim(x_lowerbound[0], x_lowerbound[1])\n",
    "    ax3.set_xlim(x_upperbound[0], x_upperbound[1] )\n",
    "\n",
    "    ax1.title.set_text('Full data range')\n",
    "    ax2.title.set_text('lower bound')\n",
    "    ax3.title.set_text('upper bound')\n",
    "    ax1.set_xlabel(\"\")\n",
    "    ax2.set_xlabel(\"\")\n",
    "    ax3.set_xlabel(\"\")\n",
    "\n",
    "    # draw thresholds\n",
    "    if( type(filter_thr)!=list ):\n",
    "        ax1.axvline(x=filter_thr, ymin=0,ymax=1, color='red')\n",
    "        ax2.axvline(x=filter_thr, ymin=0,ymax=1, color='red')\n",
    "        ax3.axvline(x=filter_thr, ymin=0,ymax=1, color='red')\n",
    "    elif( type(filter_thr)==list ):\n",
    "        for i,x in enumerate(filter_thr):\n",
    "            ax1.axvline(x=x, ymin=0,ymax=1, color='red')\n",
    "            ax2.axvline(x=x, ymin=0,ymax=1, color='red')\n",
    "            ax3.axvline(x=x, ymin=0,ymax=1, color='red')\n",
    "\n",
    "    fig.text(0.00, 0.5, 'Frequency', ha='center', va='center', rotation='vertical', size='x-large')\n",
    "    fig.text(0.5, 0.0, xlab, ha='center', va='center', size='x-large')\n",
    "\n",
    "    fig.tight_layout()"
   ]
  },
  {
   "cell_type": "markdown",
   "metadata": {},
   "source": [
    "## Read Data\n",
    "\n",
    "We read in the data pre-filtered, and post-filtered, with the filtering parameters specified in the nextflow config file applied."
   ]
  },
  {
   "cell_type": "code",
   "execution_count": null,
   "metadata": {},
   "outputs": [],
   "source": [
    "adata_pre = sc.read_h5ad(filename=FILE1)\n",
    "adata_post = sc.read_h5ad(filename=FILE2)"
   ]
  },
  {
   "cell_type": "markdown",
   "metadata": {},
   "source": [
    "---\n",
    "# Prefilter diagnostics"
   ]
  },
  {
   "cell_type": "markdown",
   "metadata": {},
   "source": [
    "#### Basic Gene-Level Summary Statistics"
   ]
  },
  {
   "cell_type": "code",
   "execution_count": null,
   "metadata": {},
   "outputs": [],
   "source": [
    "n_counts_per_gene = np.sum(adata_pre.X, axis=0)\n",
    "n_cells_per_gene = np.sum(adata_pre.X>0, axis=0)\n",
    "print(\"Number of counts (in the dataset units) per gene:\", n_counts_per_gene.min(), \" - \" ,n_counts_per_gene.max())\n",
    "print(\"Number of cells in which each gene is detected:\", n_cells_per_gene.min(), \" - \" ,n_cells_per_gene.max())\n",
    "nCellsPerGene = pd.Series( n_cells_per_gene.tolist()[0], index=adata_pre.var_names )"
   ]
  },
  {
   "cell_type": "markdown",
   "metadata": {},
   "source": [
    "## Diagnostic Plots (pre-filtering)"
   ]
  },
  {
   "cell_type": "markdown",
   "metadata": {},
   "source": [
    "#### Summary histograms showing the distributions of number of genes, number of counts, and fraction of mitochondrial genes"
   ]
  },
  {
   "cell_type": "code",
   "execution_count": null,
   "metadata": {},
   "outputs": [],
   "source": [
    "plotSummaryHist(adata_pre, draw_thresholds=True)"
   ]
  },
  {
   "cell_type": "markdown",
   "metadata": {},
   "source": [
    "#### Summary violin plots showing the distributions of number of genes, number of counts, and fraction of mitochondrial genes"
   ]
  },
  {
   "cell_type": "code",
   "execution_count": null,
   "metadata": {},
   "outputs": [],
   "source": [
    "metrics = ['n_genes', 'n_counts', 'percent_mito']\n",
    "sc.pl.violin(adata_pre, np.array(metrics)[np.isin(metrics,adata_pre.obs.keys())],\n",
    "    jitter=0.4, multi_panel=True )"
   ]
  },
  {
   "cell_type": "markdown",
   "metadata": {},
   "source": [
    "#### Scatter plot showing the number of genes vs number of counts, colored by mitochondrial read fraction"
   ]
  },
  {
   "cell_type": "code",
   "execution_count": null,
   "metadata": {},
   "outputs": [],
   "source": [
    "if 'percent_mito' in adata_pre.obs.keys():\n",
    "    sc.pl.scatter(adata_pre, x='n_counts', y='n_genes', color='percent_mito', title=\"Fraction of mitochondrial reads per cell\")\n",
    "else:\n",
    "    sc.pl.scatter(adata_pre, x='n_counts', y='n_genes')\n",
    "    warnings.warn(\"Percentage of mitochondrial genes expressed in cells not calculated\")"
   ]
  },
  {
   "cell_type": "markdown",
   "metadata": {},
   "source": [
    "---\n",
    "## Setting the filters"
   ]
  },
  {
   "cell_type": "markdown",
   "metadata": {},
   "source": [
    "### Filter 1: Number of genes expressed per cell\n",
    "\n",
    "**Cell-level filtering**\n",
    "\n",
    "To determine whether the thresholds are set correctly, it's useful to look at a histogram showing the distribution of the number of genes expressed for each cell. Here, the **left panel** shows the entire range of the data (equivalent to the summary plot above), while the **middle panel** focuses on the area around the lower threshold, and the **right panel** focuses on the area surrounding the upper threshold."
   ]
  },
  {
   "cell_type": "code",
   "execution_count": null,
   "metadata": {},
   "outputs": [],
   "source": [
    "plotDiagnosticHist(adata_pre.obs['n_genes'],\n",
    "                   xlim_q=0.2, nbins=100,\n",
    "                   xlab='Number of genes expressed per cell',\n",
    "                   filter_thr=[ adata_pre.uns['sc']['scanpy']['filter']['cellFilterMinNGenes'],\n",
    "                                adata_pre.uns['sc']['scanpy']['filter']['cellFilterMaxNGenes']]\n",
    "                  )\n",
    "print(\"Number of genes expressed per cell threshold is set to {}-{}\".format(\n",
    "      adata_pre.uns['sc']['scanpy']['filter']['cellFilterMinNGenes'],\n",
    "      adata_pre.uns['sc']['scanpy']['filter']['cellFilterMaxNGenes'])\n",
    "     )\n",
    "print(\"Unfiltered data range is {}-{}.\".format(adata_pre.obs['n_genes'].min(),adata_pre.obs['n_genes'].max() ))"
   ]
  },
  {
   "cell_type": "markdown",
   "metadata": {},
   "source": [
    "### Filter 2: Fraction of mitochondrial reads per cell\n",
    "\n",
    "**Cell-level filtering**\n",
    "\n",
    "The same approach is used to examine the fraction of mitochondrial reads per cell, focusing on the upper and lower bounds in the right panels. In this case, there is only an upper threshold on mitochondrial read fraction."
   ]
  },
  {
   "cell_type": "code",
   "execution_count": null,
   "metadata": {},
   "outputs": [],
   "source": [
    "if 'percent_mito' in adata_pre.obs.keys():\n",
    "    plotDiagnosticHist(adata_pre.obs['percent_mito'],\n",
    "                       xlim_q=0.25, nbins=100,\n",
    "                       xlab='Fraction of mitochondrial reads per cell',\n",
    "                       filter_thr=adata_pre.uns['sc']['scanpy']['filter']['cellFilterMaxPercentMito'])\n",
    "    print(\"Fraction of mitochondrial reads per cell threshold limit is set to {}\".format(\n",
    "      adata_pre.uns['sc']['scanpy']['filter']['cellFilterMaxPercentMito'])\n",
    "     )\n",
    "    print(\"Unfiltered data range is {}-{}.\".format(adata_pre.obs['percent_mito'].min(),adata_pre.obs['percent_mito'].max() ))\n",
    "else:\n",
    "    warnings.warn(\"Percentage of mitochondrial genes expressed in cells not calculated\")"
   ]
  },
  {
   "cell_type": "markdown",
   "metadata": {},
   "source": [
    "### Filter 3: Number of cells expressing each gene\n",
    "\n",
    "**Gene-level filtering**\n",
    "\n",
    "The final filter is applied on a gene-level: For each gene, we count the number of cells in which it is expressed. The distribution here is usually highly skewed, such that there are a large number of genes expressed in only a few cells (with many expressed in 0 or 1 cells). The threshold here can be conservatively set low: requiring a minimum of **3** cells expressing any given gene is a reasonable start, but this will be highly dependent on the data, particularly the total number of cells in the experiment.\n",
    "\n",
    "The same approach is used as above, focusing on the upper and lower bounds in the right panels. In this case, there is only an upper threshold on number of cells expressing each gene. The _upper bound_ plot is not as useful here."
   ]
  },
  {
   "cell_type": "code",
   "execution_count": null,
   "metadata": {},
   "outputs": [],
   "source": [
    "plotDiagnosticHist(nCellsPerGene,\n",
    "                   xlim_val=[50,200], nbins=[50,500,500],\n",
    "                   xlab='Number of cells expressing each gene',\n",
    "                   filter_thr=adata_pre.uns['sc']['scanpy']['filter']['geneFilterMinNCells']\n",
    "                  )\n",
    "\n",
    "print(\"Keeping genes present in at least {} cells\".format(adata_pre.uns['sc']['scanpy']['filter']['geneFilterMinNCells'] ))\n",
    "print(\"Unfiltered data range is {}-{}.\".format(nCellsPerGene.min(),nCellsPerGene.max() ))"
   ]
  },
  {
   "cell_type": "markdown",
   "metadata": {},
   "source": [
    "---\n",
    "## Diagnostic Plots (post-filtering)\n",
    "\n",
    "Here, we show repeat the summary plots shown above, this time showing the data **after filting**."
   ]
  },
  {
   "cell_type": "code",
   "execution_count": null,
   "metadata": {},
   "outputs": [],
   "source": [
    "# re-calculate number of cells per gene for post-filter:\n",
    "nCellsPerGene = pd.Series( np.sum(adata_post.X>0, axis=0).tolist()[0], index=adata_post.var_names )"
   ]
  },
  {
   "cell_type": "code",
   "execution_count": null,
   "metadata": {},
   "outputs": [],
   "source": [
    "plotSummaryHist(adata_post)"
   ]
  },
  {
   "cell_type": "markdown",
   "metadata": {},
   "source": [
    "#### Violin plots of number of genes, number of counts, and percent of mitochondrial genes"
   ]
  },
  {
   "cell_type": "code",
   "execution_count": null,
   "metadata": {},
   "outputs": [],
   "source": [
    "metrics = ['n_genes', 'n_counts', 'percent_mito']\n",
    "sc.pl.violin(adata_post, np.array(['n_genes', 'n_counts', 'percent_mito'])[np.isin(metrics,adata_post.obs.keys())],\n",
    "    jitter=0.4, multi_panel=True )"
   ]
  },
  {
   "cell_type": "markdown",
   "metadata": {},
   "source": [
    "#### Scatter plot number of genes vs number of counts"
   ]
  },
  {
   "cell_type": "code",
   "execution_count": null,
   "metadata": {},
   "outputs": [],
   "source": [
    "if 'percent_mito' in adata_post.obs.keys():\n",
    "    sc.pl.scatter(adata_post, x='n_counts', y='n_genes', color='percent_mito', title=\"Fraction of mitochondrial reads per cell\")\n",
    "else:\n",
    "    sc.pl.scatter(adata_post, x='n_counts', y='n_genes')\n",
    "    warnings.warn(\"Percentage of mitochondrial genes expressed in cells not calculated\")"
   ]
  },
  {
   "cell_type": "code",
   "execution_count": null,
   "metadata": {},
   "outputs": [],
   "source": []
  }
 ],
 "metadata": {
  "kernelspec": {
   "display_name": "Python 3",
   "language": "python",
   "name": "python3"
  },
  "language_info": {
   "codemirror_mode": {
    "name": "ipython",
    "version": 3
   },
   "file_extension": ".py",
   "mimetype": "text/x-python",
   "name": "python",
   "nbconvert_exporter": "python",
   "pygments_lexer": "ipython3",
   "version": "3.7.3"
  }
 },
 "nbformat": 4,
 "nbformat_minor": 4
}
