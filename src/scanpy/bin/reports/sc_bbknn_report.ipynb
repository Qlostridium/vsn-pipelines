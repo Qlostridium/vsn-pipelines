{
 "cells": [
  {
   "cell_type": "markdown",
   "metadata": {},
   "source": [
    "# Single-Cell Report: BBKNN Batch Correction"
   ]
  },
  {
   "cell_type": "code",
   "execution_count": null,
   "metadata": {},
   "outputs": [],
   "source": [
    "# Import packages\n",
    "import scanpy as sc\n",
    "import matplotlib.pyplot as plt\n",
    "import random"
   ]
  },
  {
   "cell_type": "markdown",
   "metadata": {},
   "source": [
    "#### Plotting settings and functions"
   ]
  },
  {
   "cell_type": "code",
   "execution_count": null,
   "metadata": {},
   "outputs": [],
   "source": [
    "# plot settings\n",
    "sc.set_figure_params(dpi=150, fontsize=10, dpi_save=600)"
   ]
  },
  {
   "cell_type": "markdown",
   "metadata": {},
   "source": [
    "#### Read Data"
   ]
  },
  {
   "cell_type": "code",
   "execution_count": null,
   "metadata": {},
   "outputs": [],
   "source": [
    "adata1 = sc.read_h5ad(filename=FILE1)\n",
    "adata2 = sc.read_h5ad(filename=FILE2)"
   ]
  },
  {
   "cell_type": "code",
   "execution_count": null,
   "metadata": {},
   "outputs": [],
   "source": [
    "# shuffle the cells in the matrix to avoid batch overplotting\n",
    "cellID1 = list(adata1.obs_names)\n",
    "random.shuffle(cellID1)\n",
    "adata1 = adata1[cellID1]\n",
    "\n",
    "cellID2 = list(adata2.obs_names)\n",
    "random.shuffle(cellID2)\n",
    "adata2 = adata2[cellID2]"
   ]
  },
  {
   "cell_type": "markdown",
   "metadata": {},
   "source": [
    "---\n",
    "## Batch effect correction"
   ]
  },
  {
   "cell_type": "code",
   "execution_count": null,
   "metadata": {},
   "outputs": [],
   "source": [
    "a = 0.5 # alpha setting\n",
    "fig, ((ax1,ax2),(ax3,ax4)) = plt.subplots(2,2, figsize=(8,8), dpi=150 )\n",
    "sc.pl.umap(adata1, color='batch', alpha=a, ax=ax1, show=False)\n",
    "sc.pl.umap(adata2, color='batch', alpha=a, ax=ax2, show=False)\n",
    "sc.pl.umap(adata1, color='louvain', alpha=a, palette=sc.pl.palettes.default_64, ax=ax3, show=False)\n",
    "sc.pl.umap(adata2, color='louvain', alpha=a, palette=sc.pl.palettes.default_64, ax=ax4, show=False)\n",
    "\n",
    "ax1.set_title('Pre-batch correction (batch)')\n",
    "ax2.set_title('Post-batch correction (batch)')\n",
    "ax3.set_title('Pre-batch correction (Louvain)')\n",
    "ax4.set_title('Post-batch correction (Louvain)')\n",
    "#\n",
    "plt.tight_layout()"
   ]
  },
  {
   "cell_type": "code",
   "execution_count": null,
   "metadata": {},
   "outputs": [],
   "source": []
  }
 ],
 "metadata": {
  "kernelspec": {
   "display_name": "Python 3",
   "language": "python",
   "name": "python3"
  },
  "language_info": {
   "codemirror_mode": {
    "name": "ipython",
    "version": 3
   },
   "file_extension": ".py",
   "mimetype": "text/x-python",
   "name": "python",
   "nbconvert_exporter": "python",
   "pygments_lexer": "ipython3",
   "version": "3.7.3"
  }
 },
 "nbformat": 4,
 "nbformat_minor": 4
}
