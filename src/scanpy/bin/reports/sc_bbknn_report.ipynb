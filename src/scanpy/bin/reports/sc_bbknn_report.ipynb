{
 "cells": [
  {
   "cell_type": "markdown",
   "metadata": {},
   "source": [
    "# Single-Cell Report: BBKNN Batch Correction"
   ]
  },
  {
   "cell_type": "code",
   "execution_count": null,
   "metadata": {},
   "outputs": [],
   "source": [
    "# Import packages\n",
    "import scanpy as sc\n",
    "import matplotlib.pyplot as plt\n",
    "import random"
   ]
  },
  {
   "cell_type": "markdown",
   "metadata": {},
   "source": [
    "#### Plotting settings and functions"
   ]
  },
  {
   "cell_type": "code",
   "execution_count": null,
   "metadata": {},
   "outputs": [],
   "source": [
    "# plot settings\n",
    "sc.set_figure_params(dpi=150, fontsize=10, dpi_save=600)"
   ]
  },
  {
   "cell_type": "code",
   "execution_count": null,
   "metadata": {},
   "outputs": [],
   "source": [
    "def batchBarPlot( obs, axis1, axis2, title):\n",
    "    cluster_by_sample = obs.groupby(by=['louvain', 'batch']).size().unstack()\n",
    "    cluster_by_sample.columns = [f\"{c} (n={sum((obs['batch'] == c))})\" for c in cluster_by_sample.columns]\n",
    "    cluster_by_sample.index = [int(n) + 1 for n in cluster_by_sample.index]\n",
    "    cluster_by_sample_norm = (cluster_by_sample/cluster_by_sample.sum()) * 100\n",
    "    cluster_by_sample_norm.plot(kind='bar', stacked=False, fontsize=8, width=.7, grid=False, ax=axis1)\n",
    "    axis1.set_ylabel('Percentage of Batch (%)');\n",
    "    axis1.set_title(title)\n",
    "    axis1.legend(fancybox=True, framealpha=0.5, loc='right', bbox_to_anchor=(1.15, 0.5))\n",
    "    (cluster_by_sample.divide(cluster_by_sample.sum(axis=1), axis='rows') * 100).plot(kind='bar', stacked=True, fontsize=8, width=.75, grid=False, ax=axis2)\n",
    "    #axis1.xticks\n",
    "    axis2.set_ylabel('Percent of Cluster (%)');\n",
    "    axis2.set_title(title)\n",
    "    axis2.legend(fancybox=True, framealpha=0.5, loc='right', bbox_to_anchor=(1.15, 0.5))"
   ]
  },
  {
   "cell_type": "markdown",
   "metadata": {},
   "source": [
    "#### Read Data"
   ]
  },
  {
   "cell_type": "code",
   "execution_count": null,
   "metadata": {},
   "outputs": [],
   "source": [
    "adata1 = sc.read_h5ad(filename=FILE1)\n",
    "adata2 = sc.read_h5ad(filename=FILE2)"
   ]
  },
  {
   "cell_type": "code",
   "execution_count": null,
   "metadata": {},
   "outputs": [],
   "source": [
    "# shuffle the cells in the matrix to avoid batch overplotting\n",
    "cellID1 = list(adata1.obs_names)\n",
    "random.shuffle(cellID1)\n",
    "adata1 = adata1[cellID1]\n",
    "\n",
    "cellID2 = list(adata2.obs_names)\n",
    "random.shuffle(cellID2)\n",
    "adata2 = adata2[cellID2]"
   ]
  },
  {
   "cell_type": "markdown",
   "metadata": {},
   "source": [
    "---\n",
    "## Batch effect correction"
   ]
  },
  {
   "cell_type": "code",
   "execution_count": null,
   "metadata": {},
   "outputs": [],
   "source": [
    "a = 0.6 # alpha setting\n",
    "fig, ((ax1,ax2),(ax3,ax4)) = plt.subplots(2,2, figsize=(8,8), dpi=150 )\n",
    "sc.pl.umap(adata1, color='batch', alpha=a, ax=ax1, show=False)\n",
    "sc.pl.umap(adata2, color='batch', alpha=a, ax=ax2, show=False)\n",
    "sc.pl.umap(adata1, color='louvain', alpha=a, palette=sc.pl.palettes.default_64, ax=ax3, show=False)\n",
    "sc.pl.umap(adata2, color='louvain', alpha=a, palette=sc.pl.palettes.default_64, ax=ax4, show=False)\n",
    "\n",
    "ax1.set_title('Pre-batch correction (batch)')\n",
    "ax2.set_title('Post-batch correction (batch)')\n",
    "ax3.set_title('Pre-batch correction (Louvain)')\n",
    "ax4.set_title('Post-batch correction (Louvain)')\n",
    "#\n",
    "plt.tight_layout()"
   ]
  },
  {
   "cell_type": "markdown",
   "metadata": {},
   "source": [
    "#### Cluster membership by batch\n",
    "\n",
    "The following plots show how the batches distribute in each predicted Louvain cluster. The proportion of cells from each batch that belong to a particular cluster are shown in the top row (percentage of batch), pre- and post filtering. The bottom row (percent of cluster) shows the batch composition of each cluster, pre- and post filtering. In the pre-batch correction plots, clusters tend to be based on batch, while post-batch correction, there is a more even distribution of batches in each cluster."
   ]
  },
  {
   "cell_type": "code",
   "execution_count": null,
   "metadata": {},
   "outputs": [],
   "source": [
    "fig, ((ax1,ax2),(ax3,ax4)) = plt.subplots(2,2, figsize=(15,8), dpi=150 )\n",
    "batchBarPlot(adata1.obs, axis1=ax1, axis2=ax3, title=\"Pre-batch correction\")\n",
    "batchBarPlot(adata2.obs, axis1=ax2, axis2=ax4, title=\"Post-batch correction\")\n",
    "plt.tight_layout()"
   ]
  },
  {
   "cell_type": "code",
   "execution_count": null,
   "metadata": {},
   "outputs": [],
   "source": []
  }
 ],
 "metadata": {
  "kernelspec": {
   "display_name": "Python 3",
   "language": "python",
   "name": "python3"
  },
  "language_info": {
   "codemirror_mode": {
    "name": "ipython",
    "version": 3
   },
   "file_extension": ".py",
   "mimetype": "text/x-python",
   "name": "python",
   "nbconvert_exporter": "python",
   "pygments_lexer": "ipython3",
   "version": "3.7.3"
  }
 },
 "nbformat": 4,
 "nbformat_minor": 4
}
