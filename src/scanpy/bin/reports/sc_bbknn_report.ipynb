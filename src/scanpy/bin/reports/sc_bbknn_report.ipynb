{
 "cells": [
  {
   "cell_type": "markdown",
   "metadata": {},
   "source": [
    "# Single-Cell Report: BBKNN Batch Correction"
   ]
  },
  {
   "cell_type": "code",
   "execution_count": null,
   "metadata": {},
   "outputs": [],
   "source": [
    "FILE1 = \"/Users/u0125489/tmp/bbknn_testdata/BBKNN-test.SC__SCANPY__CLUSTERING.h5ad\"\n",
    "FILE2 = \"/Users/u0125489/tmp/bbknn_testdata/BBKNN-test.SC__SCANPY__DIM_REDUCTION_UMAP.h5ad\""
   ]
  },
  {
   "cell_type": "code",
   "execution_count": null,
   "metadata": {},
   "outputs": [],
   "source": [
    "# Import packages\n",
    "import scanpy as sc\n",
    "import matplotlib.pyplot as plt"
   ]
  },
  {
   "cell_type": "markdown",
   "metadata": {},
   "source": [
    "#### Plotting settings and functions"
   ]
  },
  {
   "cell_type": "code",
   "execution_count": null,
   "metadata": {},
   "outputs": [],
   "source": [
    "# plot settings\n",
    "sc.set_figure_params(dpi=150, fontsize=10, dpi_save=600)"
   ]
  },
  {
   "cell_type": "markdown",
   "metadata": {},
   "source": [
    "#### Read Data"
   ]
  },
  {
   "cell_type": "code",
   "execution_count": null,
   "metadata": {},
   "outputs": [],
   "source": [
    "adata1 = sc.read_h5ad(filename=FILE1)\n",
    "adata2 = sc.read_h5ad(filename=FILE2)"
   ]
  },
  {
   "cell_type": "markdown",
   "metadata": {},
   "source": [
    "---\n",
    "## Batch effect correction"
   ]
  },
  {
   "cell_type": "code",
   "execution_count": null,
   "metadata": {},
   "outputs": [],
   "source": [
    "fig, ((ax1,ax2),(ax3,ax4)) = plt.subplots(2,2, figsize=(8,8), dpi=150 )\n",
    "sc.pl.umap(adata1, color='batch', palette='Set2', ax=ax1, show=False)\n",
    "sc.pl.umap(adata2, color='batch', palette='Set2', ax=ax2, show=False)\n",
    "sc.pl.umap(adata1, color='louvain', palette=sc.pl.palettes.default_64, ax=ax3, show=False)\n",
    "sc.pl.umap(adata2, color='louvain', palette=sc.pl.palettes.default_64, ax=ax4, show=False)\n",
    "\n",
    "ax1.set_title('Pre-batch correction (batch)')\n",
    "ax2.set_title('Post-batch correction (batch)')\n",
    "ax3.set_title('Pre-batch correction (Louvain)')\n",
    "ax4.set_title('Post-batch correction (Louvain)')\n",
    "#\n",
    "plt.tight_layout()"
   ]
  },
  {
   "cell_type": "code",
   "execution_count": null,
   "metadata": {},
   "outputs": [],
   "source": []
  }
 ],
 "metadata": {
  "kernelspec": {
   "display_name": "Python 3",
   "language": "python",
   "name": "python3"
  },
  "language_info": {
   "codemirror_mode": {
    "name": "ipython",
    "version": 3
   },
   "file_extension": ".py",
   "mimetype": "text/x-python",
   "name": "python",
   "nbconvert_exporter": "python",
   "pygments_lexer": "ipython3",
   "version": "3.7.3"
  }
 },
 "nbformat": 4,
 "nbformat_minor": 4
}
