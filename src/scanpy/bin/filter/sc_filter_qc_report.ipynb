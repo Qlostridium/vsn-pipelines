{
 "cells": [
  {
   "cell_type": "markdown",
   "metadata": {},
   "source": [
    "# Single-Cell Filter QC Report"
   ]
  },
  {
   "cell_type": "code",
   "execution_count": null,
   "metadata": {},
   "outputs": [],
   "source": [
    "# Import packages\n",
    "import scanpy as sc\n",
    "import seaborn as sns\n",
    "import matplotlib.pyplot as plt\n",
    "import numpy as np\n",
    "import warnings"
   ]
  },
  {
   "cell_type": "markdown",
   "metadata": {},
   "source": [
    "## Read Data"
   ]
  },
  {
   "cell_type": "code",
   "execution_count": null,
   "metadata": {},
   "outputs": [],
   "source": [
    "adata = sc.read_h5ad(filename=FILE)"
   ]
  },
  {
   "cell_type": "markdown",
   "metadata": {},
   "source": [
    "## Basic Statistics"
   ]
  },
  {
   "cell_type": "code",
   "execution_count": null,
   "metadata": {},
   "outputs": [],
   "source": [
    "n_counts_per_gene = np.sum(adata.X, axis=0)\n",
    "n_cells_per_gene = np.sum(adata.X>0, axis=0)\n",
    "# Show info\n",
    "print(\"Number of counts (in the dataset units) per gene:\", n_counts_per_gene.min(), \" - \" ,n_counts_per_gene.max())\n",
    "print(\"Number of cells in which each gene is detected:\", n_cells_per_gene.min(), \" - \" ,n_cells_per_gene.max())"
   ]
  },
  {
   "cell_type": "markdown",
   "metadata": {},
   "source": [
    "## Diagnostic Plots (pre-filtering)"
   ]
  },
  {
   "cell_type": "markdown",
   "metadata": {},
   "source": [
    "### Number of genes expressed per cell"
   ]
  },
  {
   "cell_type": "code",
   "execution_count": null,
   "metadata": {},
   "outputs": [],
   "source": [
    "if 'n_genes' not in adata.obs.keys():\n",
    "    raise Exception(\"n_genes not found\")\n",
    "    \n",
    "fig, (ax1, ax2, ax3) = plt.subplots(1, 3, figsize=(16, 6), dpi=150, sharey=True)\n",
    "\n",
    "x = adata.obs['n_genes']\n",
    "x_lowerbound = 1500\n",
    "x_upperbound = 2000\n",
    "nbins=100\n",
    "\n",
    "sns.distplot(x, ax=ax1, norm_hist=True, bins=nbins)\n",
    "sns.distplot(x, ax=ax2, norm_hist=True, bins=nbins)\n",
    "sns.distplot(x, ax=ax3, norm_hist=True, bins=nbins)\n",
    "\n",
    "ax2.set_xlim(0,x_lowerbound)\n",
    "ax3.set_xlim(x_upperbound, adata.obs['n_genes'].max() )\n",
    "ax1.title.set_text('n_genes')\n",
    "ax2.title.set_text('n_genes, lower bound')\n",
    "ax3.title.set_text('n_genes, upper bound')\n",
    "\n",
    "fig.tight_layout()"
   ]
  },
  {
   "cell_type": "markdown",
   "metadata": {},
   "source": [
    "### Percentage of mitochondrial reads per cel"
   ]
  },
  {
   "cell_type": "code",
   "execution_count": null,
   "metadata": {},
   "outputs": [],
   "source": [
    "if 'percent_mito' in adata.obs.keys():\n",
    "    fig, (ax1, ax2, ax3) = plt.subplots(1, 3, figsize=(16, 6), dpi=150, sharey=True)\n",
    "\n",
    "    x = adata.obs['percent_mito']\n",
    "    x_lowerbound = [0.0, 0.07 ]\n",
    "    x_upperbound = [ 0.10, 0.3 ]\n",
    "    nbins=100\n",
    "\n",
    "    sns.distplot(x, ax=ax1, norm_hist=True, bins=nbins)\n",
    "    sns.distplot(x, ax=ax2, norm_hist=True, bins=int(nbins/(x_lowerbound[1]-x_lowerbound[0])) )\n",
    "    sns.distplot(x, ax=ax3, norm_hist=True, bins=int(nbins/(x_upperbound[1]-x_upperbound[0])) )\n",
    "\n",
    "    ax2.set_xlim(x_lowerbound[0], x_lowerbound[1])\n",
    "    ax3.set_xlim(x_upperbound[0], x_upperbound[1] )\n",
    "    ax1.title.set_text('percent_mito')\n",
    "    ax2.title.set_text('percent_mito, lower bound')\n",
    "    ax3.title.set_text('percent_mito, upper bound')\n",
    "\n",
    "    fig.tight_layout()\n",
    "else:\n",
    "    warnings.warn(\"Percentage of mitochondrial genes expressed in cells not calculated\")"
   ]
  },
  {
   "cell_type": "markdown",
   "metadata": {},
   "source": [
    "### Three-panel summary plots"
   ]
  },
  {
   "cell_type": "markdown",
   "metadata": {},
   "source": [
    "#### Distributions of number of genes, number of counts, and percent of mitochondrial genes"
   ]
  },
  {
   "cell_type": "code",
   "execution_count": null,
   "metadata": {},
   "outputs": [],
   "source": [
    "fig, (ax1, ax2, ax3) = plt.subplots(1, 3, figsize=(16, 6), dpi=150, sharey=False)\n",
    "\n",
    "sns.distplot( adata.obs['n_genes'], ax=ax1, norm_hist=True, bins=100)\n",
    "ax1.title.set_text('n_genes')\n",
    "\n",
    "sns.distplot( adata.obs['n_counts'], ax=ax2, norm_hist=True, bins=100)\n",
    "ax2.title.set_text('n_counts')\n",
    "\n",
    "if 'percent_mito' in adata.obs.keys():\n",
    "    print(\"Percentage of mitochondrial genes expressed in cells not calculated\")\n",
    "    sns.distplot( adata.obs['percent_mito'], ax=ax3, norm_hist=True, bins=100)\n",
    "    ax3.title.set_text('percent_mito')\n",
    "else:\n",
    "    warnings.warn(\"Percentage of mitochondrial genes expressed in cells not calculated\")\n",
    "    \n",
    "fig.tight_layout()"
   ]
  },
  {
   "cell_type": "markdown",
   "metadata": {},
   "source": [
    "#### Violin plots of number of genes, number of counts, and percent of mitochondrial genes"
   ]
  },
  {
   "cell_type": "code",
   "execution_count": null,
   "metadata": {},
   "outputs": [],
   "source": [
    "metrics = ['n_genes', 'n_counts', 'percent_mito']\n",
    "sc.pl.violin(adata, np.array(['n_genes', 'n_counts', 'percent_mito'])[np.isin(metrics,adata.obs.keys())],\n",
    "    jitter=0.4, multi_panel=True )"
   ]
  },
  {
   "cell_type": "markdown",
   "metadata": {},
   "source": [
    "#### Scatter plot number of genes vs number of counts"
   ]
  },
  {
   "cell_type": "code",
   "execution_count": null,
   "metadata": {},
   "outputs": [],
   "source": [
    "if 'percent_mito' in adata.obs.keys():\n",
    "    sc.pl.scatter(adata, x='n_counts', y='n_genes', color='percent_mito')\n",
    "else:\n",
    "    sc.pl.scatter(adata, x='n_counts', y='n_genes')\n",
    "    warnings.warn(\"Percentage of mitochondrial genes expressed in cells not calculated\")"
   ]
  }
 ],
 "metadata": {
  "kernelspec": {
   "display_name": "Python 3",
   "language": "python",
   "name": "python3"
  },
  "language_info": {
   "codemirror_mode": {
    "name": "ipython",
    "version": 3
   },
   "file_extension": ".py",
   "mimetype": "text/x-python",
   "name": "python",
   "nbconvert_exporter": "python",
   "pygments_lexer": "ipython3",
   "version": "3.6.8"
  }
 },
 "nbformat": 4,
 "nbformat_minor": 4
}
